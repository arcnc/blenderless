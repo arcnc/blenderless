{
 "cells": [
  {
   "cell_type": "code",
   "execution_count": null,
   "id": "1d9674ee",
   "metadata": {},
   "outputs": [],
   "source": [
    "import renderpy"
   ]
  },
  {
   "cell_type": "markdown",
   "id": "381e095e",
   "metadata": {},
   "source": [
    "# basic rendering"
   ]
  },
  {
   "cell_type": "code",
   "execution_count": null,
   "id": "0470a73f",
   "metadata": {},
   "outputs": [],
   "source": [
    "renderpy.render('../tests/test_data/mesh/3DBenchy.stl')"
   ]
  },
  {
   "cell_type": "markdown",
   "id": "df2ce78e",
   "metadata": {},
   "source": [
    "# setup scene"
   ]
  },
  {
   "cell_type": "code",
   "execution_count": null,
   "id": "be2467d0",
   "metadata": {},
   "outputs": [],
   "source": [
    "scene = renderpy.Scene()\n",
    "scene.add_object(renderpy.SphericalCoordinateCamera())\n",
    "scene.add_object(renderpy.Mesh(mesh_path='../tests/test_data/mesh/3DBenchy.stl'))\n",
    "scene.render()"
   ]
  },
  {
   "cell_type": "markdown",
   "id": "e69d9c91",
   "metadata": {},
   "source": [
    "# multiple camera"
   ]
  },
  {
   "cell_type": "code",
   "execution_count": null,
   "id": "51426ebd",
   "metadata": {},
   "outputs": [],
   "source": [
    "scene = renderpy.Scene()\n",
    "for angle in range(0, 360, 90):\n",
    "    scene.add_object(renderpy.SphericalCoordinateCamera(azimuth=angle))\n",
    "scene.add_object(renderpy.Mesh(mesh_path='../tests/test_data/mesh/3DBenchy.stl'))\n",
    "scene.render()"
   ]
  },
  {
   "cell_type": "markdown",
   "id": "6ca801fb",
   "metadata": {},
   "source": [
    "# export as gif"
   ]
  },
  {
   "cell_type": "code",
   "execution_count": null,
   "id": "81dc0eb3",
   "metadata": {},
   "outputs": [],
   "source": [
    "scene = renderpy.Scene()\n",
    "for angle in range(0, 360, 6):\n",
    "    scene.add_object(renderpy.SphericalCoordinateCamera(azimuth=angle))\n",
    "scene.add_object(renderpy.Mesh(mesh_path='../tests/test_data/mesh/3DBenchy.stl'))\n",
    "scene.render_gif('out.gif')"
   ]
  },
  {
   "cell_type": "code",
   "execution_count": null,
   "id": "14e3bec6",
   "metadata": {},
   "outputs": [],
   "source": []
  }
 ],
 "metadata": {
  "kernelspec": {
   "display_name": "Python 3",
   "language": "python",
   "name": "python3"
  },
  "language_info": {
   "codemirror_mode": {
    "name": "ipython",
    "version": 3
   },
   "file_extension": ".py",
   "mimetype": "text/x-python",
   "name": "python",
   "nbconvert_exporter": "python",
   "pygments_lexer": "ipython3",
   "version": "3.7.7"
  }
 },
 "nbformat": 4,
 "nbformat_minor": 5
}
