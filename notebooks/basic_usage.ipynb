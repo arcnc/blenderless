{
 "cells": [
  {
   "cell_type": "code",
   "execution_count": null,
   "metadata": {},
   "outputs": [],
   "source": [
    "import blenderless"
   ]
  },
  {
   "cell_type": "markdown",
   "metadata": {},
   "source": [
    "# basic rendering"
   ]
  },
  {
   "cell_type": "code",
   "execution_count": null,
   "metadata": {},
   "outputs": [],
   "source": [
    "blenderless.render('../tests/test_data/mesh/3DBenchy.stl')"
   ]
  },
  {
   "cell_type": "markdown",
   "metadata": {},
   "source": [
    "# setup scene"
   ]
  },
  {
   "cell_type": "code",
   "execution_count": null,
   "metadata": {},
   "outputs": [],
   "source": [
    "scene = blenderless.Scene()\n",
    "scene.add_object(blenderless.SphericalCoordinateCamera())\n",
    "scene.add_object(blenderless.Mesh(mesh_path='../tests/test_data/mesh/3DBenchy.stl'))\n",
    "scene.render()"
   ]
  },
  {
   "cell_type": "markdown",
   "metadata": {},
   "source": [
    "# multiple camera"
   ]
  },
  {
   "cell_type": "code",
   "execution_count": null,
   "metadata": {},
   "outputs": [],
   "source": [
    "scene = blenderless.Scene()\n",
    "for angle in range(0, 360, 90):\n",
    "    scene.add_object(blenderless.SphericalCoordinateCamera(azimuth=angle))\n",
    "scene.add_object(blenderless.Mesh(mesh_path='../tests/test_data/mesh/3DBenchy.stl'))\n",
    "scene.render()"
   ]
  },
  {
   "cell_type": "markdown",
   "metadata": {},
   "source": [
    "# export as gif"
   ]
  },
  {
   "cell_type": "code",
   "execution_count": null,
   "metadata": {},
   "outputs": [],
   "source": [
    "scene = blenderless.Scene()\n",
    "for angle in range(0, 360, 6):\n",
    "    scene.add_object(blenderless.SphericalCoordinateCamera(azimuth=angle))\n",
    "scene.add_object(blenderless.Mesh(mesh_path='../tests/test_data/mesh/3DBenchy.stl'))\n",
    "scene.render_gif('out.gif')"
   ]
  },
  {
   "cell_type": "code",
   "execution_count": null,
   "metadata": {},
   "outputs": [],
   "source": []
  }
 ],
 "metadata": {
  "interpreter": {
   "hash": "fd69f43f58546b570e94fd7eba7b65e6bcc7a5bbc4eab0408017d18902915d69"
  },
  "kernelspec": {
   "display_name": "Python 3.7.9 64-bit",
   "name": "python3"
  },
  "language_info": {
   "name": "python",
   "version": ""
  }
 },
 "nbformat": 4,
 "nbformat_minor": 5
}
