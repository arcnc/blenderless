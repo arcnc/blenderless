{
 "cells": [
  {
   "cell_type": "code",
   "execution_count": null,
   "source": [
    "import os\n",
    "import pathlib\n",
    "import blenderless\n",
    "from IPython.display import Image\n",
    "import trimesh\n",
    "import numpy as np"
   ],
   "outputs": [],
   "metadata": {}
  },
  {
   "cell_type": "code",
   "execution_count": null,
   "source": [
    "outdir = pathlib.Path('../output/')\n",
    "os.makedirs(outdir, exist_ok=True)\n",
    "mesh = trimesh.load('../tests/test_data/mesh/3DBenchy.stl')"
   ],
   "outputs": [],
   "metadata": {}
  },
  {
   "cell_type": "code",
   "execution_count": null,
   "source": [
    "# Set a label per mesh face / polygon\n",
    "n_faces = mesh.faces.shape[0]\n",
    "labels = np.zeros(n_faces, dtype=np.int32)\n",
    "labels[:n_faces//2] = 0\n",
    "labels[n_faces//2:] = 1"
   ],
   "outputs": [],
   "metadata": {}
  },
  {
   "cell_type": "code",
   "execution_count": null,
   "source": [
    "# Make list of materials and pass it on to blenderless.Mesh\n",
    "material = blenderless.MaterialRGBA(name='label0')\n",
    "material2 = blenderless.MaterialRGBA(rgba=(255,0,0,255), name='label1')\n",
    "material3 = blenderless.MaterialRGBA(rgba=(0,255,0,255), name='label2')\n",
    "bl_mesh = blenderless.Mesh(mesh=mesh, labels=labels, material_list=[material, material2, material3])\n"
   ],
   "outputs": [],
   "metadata": {}
  },
  {
   "cell_type": "code",
   "execution_count": null,
   "source": [
    "scene = blenderless.Scene()\n",
    "scene.add_object(blenderless.SphericalCoordinateCamera())\n",
    "scene.add_object(bl_mesh)\n",
    "Image(scene.render(filepath=outdir / 'mesh_color.png', export_blend_path= outdir / 'blend.blend')[0])"
   ],
   "outputs": [],
   "metadata": {}
  },
  {
   "cell_type": "code",
   "execution_count": null,
   "source": [
    "# Alternatively, pass a np.ndarray (?, 3) or (?, 4) as colormap which is converted into a list of MaterialRGBAs\n",
    "colormap = np.array([[128, 0, 128, 255], [0, 128, 128, 255]])\n",
    "bl_mesh = blenderless.Mesh(mesh=mesh, labels=labels, colormap=colormap)\n",
    "\n",
    "scene = blenderless.Scene()\n",
    "scene.add_object(blenderless.SphericalCoordinateCamera(azimuth=45))\n",
    "scene.add_object(bl_mesh)\n",
    "Image(scene.render(filepath=outdir / 'mesh_color2.png', export_blend_path= outdir / 'blend.blend')[0])\n"
   ],
   "outputs": [],
   "metadata": {}
  },
  {
   "cell_type": "code",
   "execution_count": null,
   "source": [],
   "outputs": [],
   "metadata": {}
  }
 ],
 "metadata": {
  "orig_nbformat": 4,
  "language_info": {
   "name": "python",
   "version": "3.7.11",
   "mimetype": "text/x-python",
   "codemirror_mode": {
    "name": "ipython",
    "version": 3
   },
   "pygments_lexer": "ipython3",
   "nbconvert_exporter": "python",
   "file_extension": ".py"
  },
  "kernelspec": {
   "name": "python3",
   "display_name": "Python 3.7.11 64-bit ('.venv': poetry)"
  },
  "interpreter": {
   "hash": "af692e9a02dcba4b6ac7ed510b74521abb477b8026a3c42d284425048cc4ea37"
  }
 },
 "nbformat": 4,
 "nbformat_minor": 2
}
