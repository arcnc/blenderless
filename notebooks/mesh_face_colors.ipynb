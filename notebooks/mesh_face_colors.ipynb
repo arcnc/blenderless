{
 "cells": [
  {
   "cell_type": "code",
   "execution_count": null,
   "metadata": {},
   "outputs": [],
   "source": [
    "import os\n",
    "import pathlib\n",
    "import blenderless\n",
    "from IPython.display import Image\n",
    "import trimesh\n",
    "import numpy as np"
   ]
  },
  {
   "cell_type": "code",
   "execution_count": null,
   "metadata": {},
   "outputs": [],
   "source": [
    "outdir = pathlib.Path('../output/')\n",
    "os.makedirs(outdir, exist_ok=True)\n",
    "mesh = trimesh.load('../tests/test_data/mesh/3DBenchy.stl')"
   ]
  },
  {
   "cell_type": "code",
   "execution_count": null,
   "metadata": {},
   "outputs": [],
   "source": [
    "# Set a label per mesh face / polygon\n",
    "n_faces = mesh.faces.shape[0]\n",
    "labels = np.zeros(n_faces, dtype=np.int32)\n",
    "labels[:n_faces//2] = 0\n",
    "labels[n_faces//2:] = 1"
   ]
  },
  {
   "cell_type": "code",
   "execution_count": null,
   "metadata": {},
   "outputs": [],
   "source": [
    "# Make list of materials and pass it on to blenderless.Mesh\n",
    "material = blenderless.MaterialRGBA(material_name='label0')\n",
    "material2 = blenderless.MaterialRGBA(rgba=(255,0,0,255), material_name='label1')\n",
    "material3 = blenderless.MaterialRGBA(rgba=(0,255,0,255), material_name='label2')\n",
    "bl_mesh = blenderless.Mesh(mesh=mesh, labels=labels, material_list=[material, material2, material3])\n"
   ]
  },
  {
   "cell_type": "code",
   "execution_count": null,
   "metadata": {},
   "outputs": [],
   "source": [
    "scene = blenderless.Scene()\n",
    "scene.add_object(blenderless.SphericalCoordinateCamera())\n",
    "scene.add_object(bl_mesh)\n",
    "Image(scene.render(filepath=outdir / 'mesh_color.png', export_blend_path= outdir / 'blend.blend')[0])"
   ]
  },
  {
   "cell_type": "code",
   "execution_count": null,
   "metadata": {},
   "outputs": [],
   "source": [
    "# Alternatively, pass a np.ndarray (?, 3) or (?, 4) as colormap which is converted into a list of MaterialRGBAs\n",
    "colormap = np.array([[128, 0, 128, 255], [0, 128, 128, 255]])\n",
    "bl_mesh = blenderless.Mesh(mesh=mesh, labels=labels, colormap=colormap)\n",
    "\n",
    "scene = blenderless.Scene()\n",
    "scene.add_object(blenderless.SphericalCoordinateCamera(azimuth=45))\n",
    "scene.add_object(bl_mesh)\n",
    "Image(scene.render(filepath=outdir / 'mesh_color2.png', export_blend_path= outdir / 'blend.blend')[0])\n"
   ]
  },
  {
   "cell_type": "code",
   "execution_count": null,
   "metadata": {},
   "outputs": [],
   "source": []
  }
 ],
 "metadata": {
  "interpreter": {
   "hash": "9e2107c3a209505f2fd1efec5abc1d1e6a2fdb0729b3f94eb59689f7f9fb9837"
  },
  "kernelspec": {
   "display_name": "Python 3.7.7 64-bit ('.venv': poetry)",
   "name": "python3"
  },
  "language_info": {
   "codemirror_mode": {
    "name": "ipython",
    "version": 3
   },
   "file_extension": ".py",
   "mimetype": "text/x-python",
   "name": "python",
   "nbconvert_exporter": "python",
   "pygments_lexer": "ipython3",
   "version": "3.7.7"
  },
  "orig_nbformat": 4
 },
 "nbformat": 4,
 "nbformat_minor": 2
}
