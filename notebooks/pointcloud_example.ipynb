{
 "cells": [
  {
   "cell_type": "code",
   "execution_count": null,
   "source": [
    "import os\n",
    "import pathlib\n",
    "import blenderless\n",
    "from IPython.display import Image\n",
    "import trimesh\n",
    "import numpy as np"
   ],
   "outputs": [],
   "metadata": {}
  },
  {
   "cell_type": "code",
   "execution_count": null,
   "source": [
    "outdir = pathlib.Path('../output/')\n",
    "os.makedirs(outdir, exist_ok=True)\n",
    "mesh = trimesh.load('../tests/test_data/mesh/3DBenchy.stl')"
   ],
   "outputs": [],
   "metadata": {}
  },
  {
   "cell_type": "code",
   "execution_count": null,
   "source": [
    "points = mesh.sample(15000)"
   ],
   "outputs": [],
   "metadata": {}
  },
  {
   "cell_type": "code",
   "execution_count": null,
   "source": [
    "scene = blenderless.Scene()\n",
    "scene.add_object(blenderless.SphericalCoordinateCamera())\n",
    "scene.add_object(blenderless.PointCloud(points=points, point_size=0.3))\n",
    "Image(scene.render(filepath=outdir / 'pointcloud.png')[0])"
   ],
   "outputs": [],
   "metadata": {}
  },
  {
   "cell_type": "code",
   "execution_count": null,
   "source": [
    "# Add colors to the points using a color mapping\n",
    "n_points = points.shape[0]\n",
    "colormap = np.array([[128, 128, 0], [0, 128, 128]])\n",
    "\n",
    "# First half has label 0, second half label 1\n",
    "labels = np.zeros(n_points, dtype=np.uint32)\n",
    "labels[n_points //2:] = 1\n",
    "\n",
    "scene = blenderless.Scene()\n",
    "scene.add_object(blenderless.SphericalCoordinateCamera(azimuth=45))\n",
    "scene.add_object(blenderless.PointCloud(points=points, point_size=0.3, labels=labels, colormap=colormap))\n",
    "Image(scene.render(filepath=outdir / 'pointcloud.png')[0])\n",
    "\n"
   ],
   "outputs": [],
   "metadata": {}
  },
  {
   "cell_type": "code",
   "execution_count": null,
   "source": [],
   "outputs": [],
   "metadata": {}
  }
 ],
 "metadata": {
  "orig_nbformat": 4,
  "language_info": {
   "name": "python",
   "version": "3.7.11",
   "mimetype": "text/x-python",
   "codemirror_mode": {
    "name": "ipython",
    "version": 3
   },
   "pygments_lexer": "ipython3",
   "nbconvert_exporter": "python",
   "file_extension": ".py"
  },
  "kernelspec": {
   "name": "python3",
   "display_name": "Python 3.7.11 64-bit ('.venv': poetry)"
  },
  "interpreter": {
   "hash": "af692e9a02dcba4b6ac7ed510b74521abb477b8026a3c42d284425048cc4ea37"
  }
 },
 "nbformat": 4,
 "nbformat_minor": 2
}
